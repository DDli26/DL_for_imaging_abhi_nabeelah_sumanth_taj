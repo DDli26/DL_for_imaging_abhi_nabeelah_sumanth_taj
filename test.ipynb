{
 "cells": [
  {
   "cell_type": "markdown",
   "metadata": {},
   "source": [
    "In this file, we will write the code that basically tests our model as required by the submission<br>\n",
    "1. Write code to get all the images from the test folder --> (here we have assumed Val to be the test folder)\n",
    "2. Reconstruct those images, these reconstructed images should be stored in a folder\n",
    "3. Report PSNR, SSIM on an individual object level as well as on the entire datset"
   ]
  },
  {
   "cell_type": "markdown",
   "metadata": {},
   "source": [
    "## Necessary Imports"
   ]
  },
  {
   "cell_type": "code",
   "execution_count": 1,
   "metadata": {},
   "outputs": [],
   "source": [
    "import torch\n",
    "import torch.nn as nn\n",
    "from torch.utils.data import Dataset, DataLoader\n",
    "import torchvision.transforms as transforms\n",
    "import matplotlib.pyplot as plt\n",
    "import numpy as np"
   ]
  },
  {
   "cell_type": "code",
   "execution_count": 2,
   "metadata": {},
   "outputs": [],
   "source": [
    "import torch.nn.init as init\n",
    "import torch.nn.functional as F"
   ]
  },
  {
   "cell_type": "code",
   "execution_count": 3,
   "metadata": {},
   "outputs": [],
   "source": [
    "import os\n",
    "from PIL import Image"
   ]
  },
  {
   "cell_type": "code",
   "execution_count": 4,
   "metadata": {},
   "outputs": [
    {
     "data": {
      "text/plain": [
       "'cpu'"
      ]
     },
     "execution_count": 4,
     "metadata": {},
     "output_type": "execute_result"
    }
   ],
   "source": [
    "device= \"cuda\" if torch.cuda.is_available() else \"cpu\"\n",
    "device"
   ]
  },
  {
   "cell_type": "markdown",
   "metadata": {},
   "source": [
    "## Fetching our data"
   ]
  },
  {
   "cell_type": "markdown",
   "metadata": {},
   "source": [
    "`the function below is responsible for getting all the image paths for the test (Val in this case) data`"
   ]
  },
  {
   "cell_type": "code",
   "execution_count": 134,
   "metadata": {},
   "outputs": [],
   "source": [
    "def get_image_path(root, folder=\"Train\", type=\"Degraded_image\" ): #returns paths of all the images from the given folder\n",
    "#  root=root+\"/drive/MyDrive\" #this line is for google colab\n",
    " dataset_path=os.path.join(root, \"Denoising_Dataset_train_val\")\n",
    "#  print(\"zeroeth print statement\")\n",
    " print(os.listdir(dataset_path))\n",
    " image_paths=[]\n",
    "#go inside each of the object directories, for each of them\n",
    "#go inside Train folder,\n",
    "#inside train, go inside gthe Degraded_image directory,\n",
    "#inside Degraded_image directory, there are different directories,\n",
    "#inside each of these directories there are images that we have to extract, which are basically our noised image\n",
    " for object in sorted(os.listdir(dataset_path)):\n",
    "    object_directory_path=os.path.join(root, \"Denoising_Dataset_train_val\", object)\n",
    "    # print(\"First print statement\")\n",
    "    # print(os.listdir(object_directory_path))\n",
    "\n",
    "\n",
    "    for train_folder in sorted(os.listdir(object_directory_path)):\n",
    "      if(train_folder==folder):\n",
    "        train_directory_path=os.path.join(root, \"Denoising_Dataset_train_val\", object, train_folder)\n",
    "        # print(\"second print staement\")\n",
    "        # print(os.listdir(train_directory_path))\n",
    "\n",
    "        for degraded_image_folder in os.listdir(train_directory_path):\n",
    "            if(degraded_image_folder==type):\n",
    "\n",
    "                image_folder_path=os.listdir(os.path.join(root, \"Denoising_Dataset_train_val\", object, train_folder, degraded_image_folder))\n",
    "                # print(\"third print statement\")\n",
    "                # print(image_folder_path)\n",
    "                # return []\n",
    "                for image_folder in sorted(image_folder_path):\n",
    "                    #inside each image folder, get the images and store them in images list\n",
    "                    # print(image_folder_path)\n",
    "                    image_path=os.listdir(os.path.join(root, \"Denoising_Dataset_train_val\", object, train_folder, degraded_image_folder, image_folder))\n",
    "                    # print(\"fourth print statement\")\n",
    "                    # image_path.sort()\n",
    "                    # print(image_path)\n",
    "                    # return []\n",
    "                    for image in sorted(image_path):\n",
    "                        #now we need to store these images in a list so that they can be accessed later\n",
    "                        image_paths.append(os.path.join(root, \"Denoising_Dataset_train_val\", object, train_folder, degraded_image_folder, image_folder, image))\n",
    " return image_paths"
   ]
  },
  {
   "cell_type": "code",
   "execution_count": 135,
   "metadata": {},
   "outputs": [
    {
     "name": "stdout",
     "output_type": "stream",
     "text": [
      "['bottle', 'cable', 'capsule', 'carpet', 'grid', 'hazelnut', 'leather', 'metal_nut', 'pill', 'screw', 'tile', 'toothbrush', 'transistor', 'wood', 'zipper']\n",
      "['bottle', 'cable', 'capsule', 'carpet', 'grid', 'hazelnut', 'leather', 'metal_nut', 'pill', 'screw', 'tile', 'toothbrush', 'transistor', 'wood', 'zipper']\n"
     ]
    }
   ],
   "source": [
    "degraded_test_image_paths=get_image_path(os.getcwd(), folder=\"Val\", #folder=\"Test\" for the test data \n",
    "                                    type=\"Degraded_image\")\n",
    "\n",
    "clean_test_image_paths=get_image_path(os.getcwd(), \n",
    "                                 folder=\"Val\", \n",
    "                                 type=\"GT_clean_image\")"
   ]
  },
  {
   "cell_type": "code",
   "execution_count": 136,
   "metadata": {},
   "outputs": [
    {
     "name": "stdout",
     "output_type": "stream",
     "text": [
      "['bottle', 'cable', 'capsule', 'carpet', 'grid', 'hazelnut', 'leather', 'metal_nut', 'pill', 'screw', 'tile', 'toothbrush', 'transistor', 'wood', 'zipper']\n"
     ]
    }
   ],
   "source": [
    "defect_masks_paths=get_image_path(os.getcwd(),  #this contains the defect masks, we will use this to test psnr and ssim on the test data\n",
    "                                        folder=\"Val\", \n",
    "                                        type=\"Defect_mask\")"
   ]
  },
  {
   "cell_type": "code",
   "execution_count": 137,
   "metadata": {},
   "outputs": [
    {
     "data": {
      "text/plain": [
       "(88, 88, 88)"
      ]
     },
     "execution_count": 137,
     "metadata": {},
     "output_type": "execute_result"
    }
   ],
   "source": [
    "len(clean_test_image_paths), len(degraded_test_image_paths), len(defect_masks_paths)"
   ]
  },
  {
   "cell_type": "markdown",
   "metadata": {},
   "source": [
    "## DataSet and DataLoader Objects"
   ]
  },
  {
   "cell_type": "markdown",
   "metadata": {},
   "source": [
    "`we have the image paths, the next task is to define a dataloader object which we can then use to pass images to our model`"
   ]
  },
  {
   "cell_type": "code",
   "execution_count": 138,
   "metadata": {},
   "outputs": [],
   "source": [
    "def convert_gray_to_rgb(image):\n",
    "    # Check if input is a numpy array\n",
    "    if isinstance(image, np.ndarray):\n",
    "        # If already RGB (3 channels), return as is\n",
    "        if image.ndim == 3 and image.shape[-1] == 3:\n",
    "            return image\n",
    "        # Otherwise, convert grayscale to RGB\n",
    "        return np.stack([image] * 3, axis=-1)\n",
    "\n",
    "    # For PIL Images, check if already RGB\n",
    "    if image.mode == 'RGB':\n",
    "        return image\n",
    "    # Convert grayscale to RGB\n",
    "    return Image.merge('RGB', [image] * 3)\n",
    "\n",
    "\n",
    "def resize(image):\n",
    "    # Assuming you want to resize to 256x256 - adjust size if needed\n",
    "    if isinstance(image, np.ndarray):\n",
    "        return Image.fromarray(image).resize((256, 256), Image.Resampling.BILINEAR)\n",
    "    return image.resize((256, 256), Image.Resampling.BILINEAR)\n",
    "\n",
    "# Define the transforms\n",
    "transform = transforms.Compose([\n",
    "    transforms.Lambda(convert_gray_to_rgb),\n",
    "    transforms.Lambda(resize),\n",
    "    transforms.ToTensor(),\n",
    "])\n",
    "\n",
    "class SimpleDataset(Dataset):\n",
    "    def __init__(self, noisy_paths, clean_paths, transform=transform):\n",
    "        self.noisy_paths = noisy_paths\n",
    "        self.clean_paths = clean_paths\n",
    "        self.transform = transform\n",
    "\n",
    "    def __len__(self):\n",
    "        return len(self.noisy_paths)\n",
    "\n",
    "    def __getitem__(self, idx):\n",
    "        noisy_image = Image.open(self.noisy_paths[idx])\n",
    "        clean_image = Image.open(self.clean_paths[idx])\n",
    "\n",
    "        noisy_tensor = self.transform(noisy_image)\n",
    "        clean_tensor = self.transform(clean_image)\n",
    "\n",
    "        return noisy_tensor, clean_tensor\n"
   ]
  },
  {
   "cell_type": "code",
   "execution_count": 139,
   "metadata": {},
   "outputs": [],
   "source": [
    "test_dataset=SimpleDataset(degraded_test_image_paths, clean_test_image_paths)\n",
    "test_dataloader=DataLoader(dataset=test_dataset, batch_size=1, shuffle=False) #smaller batch size as data is less and also won't need to move it to gpu"
   ]
  },
  {
   "cell_type": "code",
   "execution_count": 140,
   "metadata": {},
   "outputs": [
    {
     "data": {
      "text/plain": [
       "88"
      ]
     },
     "execution_count": 140,
     "metadata": {},
     "output_type": "execute_result"
    }
   ],
   "source": [
    "len(test_dataloader)"
   ]
  },
  {
   "cell_type": "markdown",
   "metadata": {},
   "source": [
    "## Loading our trained model"
   ]
  },
  {
   "cell_type": "markdown",
   "metadata": {},
   "source": [
    "#### Model defination and Architecture"
   ]
  },
  {
   "cell_type": "code",
   "execution_count": 141,
   "metadata": {},
   "outputs": [],
   "source": [
    "class DnCNN(nn.Module):\n",
    "    def __init__(self, depth=17, n_channels=64, image_channels=1, use_bnorm=True, kernel_size=3):\n",
    "        super(DnCNN, self).__init__()\n",
    "        kernel_size = 3\n",
    "        padding = 1\n",
    "        layers = []\n",
    "\n",
    "        layers.append(nn.Conv2d(in_channels=image_channels, out_channels=n_channels, kernel_size=kernel_size, padding=padding, bias=True))\n",
    "        layers.append(nn.ReLU(inplace=True))\n",
    "        for _ in range(depth-2):\n",
    "            layers.append(nn.Conv2d(in_channels=n_channels, out_channels=n_channels, kernel_size=kernel_size, padding=padding, bias=False))\n",
    "            layers.append(nn.BatchNorm2d(n_channels, eps=0.0001, momentum = 0.95))\n",
    "            layers.append(nn.ReLU(inplace=True))\n",
    "        layers.append(nn.Conv2d(in_channels=n_channels, out_channels=image_channels, kernel_size=kernel_size, padding=padding, bias=False))\n",
    "        self.dncnn = nn.Sequential(*layers)\n",
    "        self._initialize_weights()\n",
    "\n",
    "    def forward(self, x):\n",
    "        y = x\n",
    "        out = self.dncnn(x)\n",
    "        denoised_output = y - out\n",
    "        return torch.clamp(denoised_output, 0, 1)\n",
    "\n",
    "    def _initialize_weights(self):\n",
    "        for m in self.modules():\n",
    "            if isinstance(m, nn.Conv2d):\n",
    "                init.orthogonal_(m.weight)\n",
    "                print('init weight')\n",
    "                if m.bias is not None:\n",
    "                    init.constant_(m.bias, 0)\n",
    "            elif isinstance(m, nn.BatchNorm2d):\n",
    "                init.constant_(m.weight, 1)\n",
    "                init.constant_(m.bias, 0)"
   ]
  },
  {
   "cell_type": "markdown",
   "metadata": {},
   "source": [
    "#### Model Initialisation and loading"
   ]
  },
  {
   "cell_type": "code",
   "execution_count": 142,
   "metadata": {},
   "outputs": [
    {
     "name": "stdout",
     "output_type": "stream",
     "text": [
      "init weight\n",
      "init weight\n",
      "init weight\n",
      "init weight\n",
      "init weight\n",
      "init weight\n",
      "init weight\n",
      "init weight\n",
      "init weight\n",
      "init weight\n",
      "init weight\n",
      "init weight\n",
      "init weight\n",
      "init weight\n",
      "init weight\n",
      "init weight\n",
      "init weight\n"
     ]
    }
   ],
   "source": [
    "model2=DnCNN(depth=17, n_channels=64,image_channels=3).to(device)\n",
    "# loss_fn=nn.MSELoss()\n",
    "# optimizer=torch.optim.Adam(model2.parameters(), lr=0.0001)"
   ]
  },
  {
   "cell_type": "code",
   "execution_count": 143,
   "metadata": {},
   "outputs": [
    {
     "name": "stderr",
     "output_type": "stream",
     "text": [
      "C:\\Users\\abhig\\AppData\\Local\\Temp\\ipykernel_20388\\1860771308.py:3: FutureWarning: You are using `torch.load` with `weights_only=False` (the current default value), which uses the default pickle module implicitly. It is possible to construct malicious pickle data which will execute arbitrary code during unpickling (See https://github.com/pytorch/pytorch/blob/main/SECURITY.md#untrusted-models for more details). In a future release, the default value for `weights_only` will be flipped to `True`. This limits the functions that could be executed during unpickling. Arbitrary objects will no longer be allowed to be loaded via this mode unless they are explicitly allowlisted by the user via `torch.serialization.add_safe_globals`. We recommend you start setting `weights_only=True` for any use case where you don't have full control of the loaded file. Please open an issue on GitHub for any issues related to this experimental feature.\n",
      "  model2.load_state_dict(torch.load(\"DnCNN_model_520_epochs_augmenteted.pth\", map_location=torch.device('cpu')))\n"
     ]
    },
    {
     "data": {
      "text/plain": [
       "<All keys matched successfully>"
      ]
     },
     "execution_count": 143,
     "metadata": {},
     "output_type": "execute_result"
    }
   ],
   "source": [
    "#loading our model\n",
    "#regardless of whether we have a gpu or not, this will load the model on the cpu\n",
    "model2.load_state_dict(torch.load(\"DnCNN_model_520_epochs_augmenteted.pth\", map_location=torch.device('cpu')))"
   ]
  },
  {
   "cell_type": "markdown",
   "metadata": {},
   "source": [
    "## Doing the Tasks Specified in the mail one by one"
   ]
  },
  {
   "cell_type": "markdown",
   "metadata": {},
   "source": [
    "#### `For each of the test images, your model should give output images and should be saved in an output folder. Average PSNR and SSIM values for each object as well as for the whole test set should be printed or saved in a file`"
   ]
  },
  {
   "cell_type": "markdown",
   "metadata": {},
   "source": [
    "#### Saving the Reconstructed test images to a folder named Reconstucted_images."
   ]
  },
  {
   "cell_type": "code",
   "execution_count": 144,
   "metadata": {},
   "outputs": [],
   "source": [
    "import os\n",
    "#create the folder if not already present\n",
    "if not os.path.exists('Reconstructed_images'):\n",
    "    os.makedirs('Reconstructed_images')"
   ]
  },
  {
   "cell_type": "code",
   "execution_count": 145,
   "metadata": {},
   "outputs": [],
   "source": [
    "def save_image(image, name):\n",
    "    #give a passed image, stored them into the folder: Reconstructd_images\n",
    "\n",
    "    #PIL expects the image to be in the range 0-255\n",
    "    image = ((image - image.min()) * 255 / (image.max() - image.min())).clip(0, 255).astype(np.uint8)\n",
    "    \n",
    "    Image.fromarray(image).save(f'Reconstructed_images/{name}.png')"
   ]
  },
  {
   "cell_type": "markdown",
   "metadata": {},
   "source": [
    "`The cell below will store all the reconstructed versions of the images into the folder Reconstructed_images`"
   ]
  },
  {
   "cell_type": "code",
   "execution_count": 146,
   "metadata": {},
   "outputs": [],
   "source": [
    "model2.eval()\n",
    "with torch.inference_mode():\n",
    "\n",
    "    for i, (noisy, clean) in enumerate(test_dataloader):\n",
    "        noisy=noisy.to(device)\n",
    "        clean=clean.to(device)\n",
    "        reconstructed=model2(noisy)\n",
    "        #we need to save this reconstructed image somewhere\n",
    "        reconstructed=reconstructed.cpu().numpy() \n",
    "        reconstructed=reconstructed[0].transpose(1, 2, 0)  #converting the image to HxWxC format\n",
    "        save_image(reconstructed, i)\n",
    "        if(i==10): break"
   ]
  },
  {
   "cell_type": "markdown",
   "metadata": {},
   "source": [
    "### PSNR for the entire dataset as well for for inidividual objects"
   ]
  },
  {
   "cell_type": "markdown",
   "metadata": {},
   "source": [
    "#### For the entire test data"
   ]
  },
  {
   "cell_type": "code",
   "execution_count": 147,
   "metadata": {},
   "outputs": [],
   "source": [
    "def psnr(img1, img2, max_pixel_value=1.0): #this will give us the psnr value per image for a given batch, we'll have to eventually divide the outcome by total no. of batches\n",
    "    mse = F.mse_loss(img1, img2)\n",
    "    psnr_value = 20 * torch.log10(max_pixel_value / torch.sqrt(mse))\n",
    "    return psnr_value"
   ]
  },
  {
   "cell_type": "code",
   "execution_count": 148,
   "metadata": {},
   "outputs": [
    {
     "name": "stdout",
     "output_type": "stream",
     "text": [
      "Average PSNR for the entire validation set: 30.09 dB\n"
     ]
    }
   ],
   "source": [
    "model2.eval()\n",
    "with torch.inference_mode():\n",
    "    total_loss = 0\n",
    "    for noisy, clean in test_dataloader:\n",
    "        noisy, clean = noisy.to(device), clean.to(device)\n",
    "        reconstructed = model2(noisy)\n",
    "\n",
    "        # PSNR calculation for images in range [0,1]\n",
    "        loss = psnr(reconstructed, clean, 1.0)  # Note max_pixel=1.0\n",
    "        total_loss += loss #this is being added for each image because batch size if 1\n",
    "\n",
    "print(f\"Average PSNR for the entire validation set: {(total_loss)/len(test_dataloader):.2f} dB\")"
   ]
  },
  {
   "cell_type": "markdown",
   "metadata": {},
   "source": [
    "#### PSNR for Individual Objects of the test data"
   ]
  },
  {
   "cell_type": "markdown",
   "metadata": {},
   "source": [
    "##### Necessary Helper Functions that will arrange everything properly like getting the images associated with a given object, etc."
   ]
  },
  {
   "cell_type": "code",
   "execution_count": 149,
   "metadata": {},
   "outputs": [],
   "source": [
    "def get_object_names(root): #returns the names of all the different objects that we have\n",
    "#  root=root+\"/drive/MyDrive\" #this line is in case you have mounted the google drive on your notebook and it contains the dataset\n",
    " dataset_path=os.path.join(root, \"Denoising_Dataset_train_val\")\n",
    " object_names=[]\n",
    "\n",
    " for object in sorted(os.listdir(dataset_path)):\n",
    "  object_names.append(object)\n",
    "\n",
    " return object_names"
   ]
  },
  {
   "cell_type": "code",
   "execution_count": 150,
   "metadata": {},
   "outputs": [
    {
     "data": {
      "text/plain": [
       "['bottle',\n",
       " 'cable',\n",
       " 'capsule',\n",
       " 'carpet',\n",
       " 'grid',\n",
       " 'hazelnut',\n",
       " 'leather',\n",
       " 'metal_nut',\n",
       " 'pill',\n",
       " 'screw',\n",
       " 'tile',\n",
       " 'toothbrush',\n",
       " 'transistor',\n",
       " 'wood',\n",
       " 'zipper']"
      ]
     },
     "execution_count": 150,
     "metadata": {},
     "output_type": "execute_result"
    }
   ],
   "source": [
    "objects=get_object_names(os.getcwd())\n",
    "objects"
   ]
  },
  {
   "cell_type": "markdown",
   "metadata": {},
   "source": [
    "given an object's name, the function below returns paths of the images, that belong to that object in the specified folder (Val folder for our case)"
   ]
  },
  {
   "cell_type": "code",
   "execution_count": 151,
   "metadata": {},
   "outputs": [],
   "source": [
    "def get_paths_of_an_object(root, object_name, folder=\"Val\", type=\"Degraded_image\" ): #returns paths of all the images of a given object\n",
    "#  root=root+\"/drive/MyDrive\"  #this line is if you are running in colab and the drive is mounted on the notebook\n",
    " dataset_path=os.path.join(root, \"Denoising_Dataset_train_val\")\n",
    " image_paths=[]\n",
    "\n",
    " for object in sorted(os.listdir(dataset_path)):\n",
    "  if object==object_name:\n",
    "    object_directory_path=os.path.join(root, \"Denoising_Dataset_train_val\", object)\n",
    "    # print(\"First print statement\")\n",
    "    # print(os.listdir(object_directory_path))\n",
    "\n",
    "\n",
    "    for train_folder in sorted(os.listdir(object_directory_path)):\n",
    "      if(train_folder==folder): #validation folder\n",
    "        train_directory_path=os.path.join(root, \"Denoising_Dataset_train_val\", object, train_folder)\n",
    "        # print(\"second print staement\")\n",
    "        # print(os.listdir(train_directory_path))\n",
    "\n",
    "        for degraded_image_folder in os.listdir(train_directory_path):\n",
    "            if(degraded_image_folder==type):\n",
    "\n",
    "                image_folder_path=os.listdir(os.path.join(root, \"Denoising_Dataset_train_val\", object, train_folder, degraded_image_folder))\n",
    "                # print(\"third print statement\")\n",
    "                # print(image_folder_path)\n",
    "                # return []\n",
    "                for image_folder in sorted(image_folder_path):\n",
    "                    #inside each image folder, get the images and store them in images list\n",
    "                    # print(image_folder_path)\n",
    "                    image_path=os.listdir(os.path.join(root, \"Denoising_Dataset_train_val\", object, train_folder, degraded_image_folder, image_folder))\n",
    "                    # print(\"fourth print statement\")\n",
    "                    # image_path.sort()\n",
    "                    # print(image_path)\n",
    "                    # return []\n",
    "                    for image in sorted(image_path):\n",
    "                        #now we need to store these images in a list so that they can be accessed later\n",
    "                        image_paths.append(os.path.join(root, \"Denoising_Dataset_train_val\", object, train_folder, degraded_image_folder, image_folder, image))\n",
    " return image_paths"
   ]
  },
  {
   "cell_type": "markdown",
   "metadata": {},
   "source": [
    "#### PSNR Score for each object"
   ]
  },
  {
   "cell_type": "code",
   "execution_count": 152,
   "metadata": {},
   "outputs": [],
   "source": [
    "psnr_scores=[]"
   ]
  },
  {
   "cell_type": "code",
   "execution_count": 153,
   "metadata": {},
   "outputs": [
    {
     "name": "stdout",
     "output_type": "stream",
     "text": [
      "psnr for bottle is  27.90460205078125\n",
      "psnr for cable is  28.174922943115234\n",
      "psnr for capsule is  32.44432830810547\n",
      "psnr for carpet is  24.79984474182129\n",
      "psnr for grid is  27.593223571777344\n",
      "psnr for hazelnut is  32.60150146484375\n",
      "psnr for leather is  29.886417388916016\n",
      "psnr for metal_nut is  29.52081871032715\n",
      "psnr for pill is  32.56135177612305\n",
      "psnr for screw is  31.90734100341797\n",
      "psnr for tile is  25.922489166259766\n",
      "psnr for toothbrush is  31.654462814331055\n",
      "psnr for transistor is  30.82946014404297\n",
      "psnr for wood is  28.21922492980957\n",
      "psnr for zipper is  31.065874099731445\n"
     ]
    }
   ],
   "source": [
    "model2.eval()\n",
    "with torch.inference_mode():\n",
    "\n",
    "    for object in objects:\n",
    "        degraded_object_image_paths=get_paths_of_an_object(os.getcwd(), object)\n",
    "        clean_object_image_paths=get_paths_of_an_object(os.getcwd(), object, \"Val\", \"GT_clean_image\")\n",
    "\n",
    "        #first we must load the images and then apply appropriate transformations before passing the degraded images to the model\n",
    "        #finally we can calculate the psnr\n",
    "\n",
    "        degraded_images=torch.zeros(len(degraded_object_image_paths), 3, 256, 256)\n",
    "        for i, noisy_image in enumerate(degraded_object_image_paths):\n",
    "            pil_image=Image.open(noisy_image)\n",
    "            noisy=transform(pil_image)\n",
    "            degraded_images[i]=noisy\n",
    "\n",
    "        #same thing for clean_images\n",
    "        clean_images=torch.zeros(len(clean_object_image_paths), 3, 256, 256)\n",
    "        # print(\"clean images length is \", len(clean_images))\n",
    "        for i, image in enumerate(clean_object_image_paths):\n",
    "          # print('i is ', i)\n",
    "          pil_image=Image.open(image)\n",
    "          image=transform(pil_image)\n",
    "          clean_images[i]=image\n",
    "\n",
    "        reconstructed_images=model2(degraded_images.to(device))\n",
    "        psnr_score=psnr(reconstructed_images, clean_images.to(device)).item()\n",
    "        psnr_scores.append(psnr_score)\n",
    "        print(f\"psnr for {object} is \", psnr_score)"
   ]
  },
  {
   "cell_type": "code",
   "execution_count": 154,
   "metadata": {},
   "outputs": [
    {
     "data": {
      "image/png": "[encoded data removed]",
      "text/plain": [
       "<Figure size 2000x500 with 1 Axes>"
      ]
     },
     "metadata": {},
     "output_type": "display_data"
    }
   ],
   "source": [
    "plt.figure(figsize=(20, 5))\n",
    "plt.bar(objects, psnr_scores)\n",
    "plt.show()"
   ]
  },
  {
   "cell_type": "markdown",
   "metadata": {},
   "source": [
    "### SSIM for the entire dataset as well for for inidividual objects"
   ]
  },
  {
   "cell_type": "markdown",
   "metadata": {},
   "source": [
    "#### SSIM for individual Objects"
   ]
  },
  {
   "cell_type": "code",
   "execution_count": 155,
   "metadata": {},
   "outputs": [],
   "source": [
    "#if using colab --> use these inbuilt methods and replace compute_ssim with ssim in cell 51\n",
    "# from skimage import io\n",
    "# from skimage.metrics import structural_similarity as ssim"
   ]
  },
  {
   "cell_type": "code",
   "execution_count": 156,
   "metadata": {},
   "outputs": [],
   "source": [
    "import cv2"
   ]
  },
  {
   "cell_type": "code",
   "execution_count": 157,
   "metadata": {},
   "outputs": [],
   "source": [
    "def calculate_ssim(img1, img2):\n",
    "    \"\"\"\n",
    "    Calculate SSIM between two images.\n",
    "    Images should be in same size and in numpy array format.\n",
    "    \"\"\"\n",
    "    C1 = (0.01 * 255)**2\n",
    "    C2 = (0.03 * 255)**2\n",
    "    \n",
    "    # Convert to float\n",
    "    img1 = img1.astype(np.float64)\n",
    "    img2 = img2.astype(np.float64)\n",
    "    \n",
    "    kernel = cv2.getGaussianKernel(11, 1.5)\n",
    "    window = np.outer(kernel, kernel.transpose())\n",
    "    \n",
    "    # Compute means\n",
    "    mu1 = cv2.filter2D(img1, -1, window)[5:-5, 5:-5]\n",
    "    mu2 = cv2.filter2D(img2, -1, window)[5:-5, 5:-5]\n",
    "    mu1_sq = mu1**2\n",
    "    mu2_sq = mu2**2\n",
    "    mu1_mu2 = mu1 * mu2\n",
    "    \n",
    "    # Compute variances and covariance\n",
    "    sigma1_sq = cv2.filter2D(img1**2, -1, window)[5:-5, 5:-5] - mu1_sq\n",
    "    sigma2_sq = cv2.filter2D(img2**2, -1, window)[5:-5, 5:-5] - mu2_sq\n",
    "    sigma12 = cv2.filter2D(img1 * img2, -1, window)[5:-5, 5:-5] - mu1_mu2\n",
    "    \n",
    "    # Calculate SSIM\n",
    "    ssim_map = ((2 * mu1_mu2 + C1) * (2 * sigma12 + C2)) / \\\n",
    "               ((mu1_sq + mu2_sq + C1) * (sigma1_sq + sigma2_sq + C2))\n",
    "    \n",
    "    return ssim_map.mean()\n",
    "\n",
    "# Example usage:\n",
    "def compute_ssim(img1, img2):\n",
    "    \"\"\"\n",
    "    Wrapper function to handle different input types and color channels\n",
    "    \"\"\"\n",
    "    # If images are PyTorch tensors, convert to numpy\n",
    "    if torch.is_tensor(img1):\n",
    "        img1 = img1.cpu().numpy()\n",
    "    if torch.is_tensor(img2):\n",
    "        img2 = img2.cpu().numpy()\n",
    "    \n",
    "    # If images are in range [0,1], convert to [0,255]\n",
    "    if img1.max() <= 1.0:\n",
    "        img1 = (img1 * 255).astype(np.uint8)\n",
    "    if img2.max() <= 1.0:\n",
    "        img2 = (img2 * 255).astype(np.uint8)\n",
    "    \n",
    "    # Convert to uint8 if not already\n",
    "    img1 = img1.astype(np.uint8)\n",
    "    img2 = img2.astype(np.uint8)\n",
    "    \n",
    "    # Handle RGB images\n",
    "    if len(img1.shape) == 3:\n",
    "        # Calculate SSIM for each channel and take mean\n",
    "        ssim_score = np.mean([calculate_ssim(img1[..., i], img2[..., i]) \n",
    "                            for i in range(img1.shape[-1])])\n",
    "    else:\n",
    "        ssim_score = calculate_ssim(img1, img2)\n",
    "        \n",
    "    return ssim_score\n",
    "\n",
    "# Usage:\n",
    "# ssim = compute_ssim(image1, image2)\n",
    "# print(f\"SSIM Score: {ssim}\")"
   ]
  },
  {
   "cell_type": "code",
   "execution_count": 158,
   "metadata": {},
   "outputs": [],
   "source": [
    "individual_objects_ssim_scores=[]"
   ]
  },
  {
   "cell_type": "code",
   "execution_count": 159,
   "metadata": {},
   "outputs": [
    {
     "name": "stdout",
     "output_type": "stream",
     "text": [
      "ssim_score for bottle is  0.8812582946679322\n",
      "ssim_score for cable is  0.8588993197379602\n",
      "ssim_score for capsule is  0.9350646441388001\n",
      "ssim_score for carpet is  0.8275515852143496\n",
      "ssim_score for grid is  0.8701511955071032\n",
      "ssim_score for hazelnut is  0.9218877424264518\n",
      "ssim_score for leather is  0.6777142871642298\n",
      "ssim_score for metal_nut is  0.8176070752295294\n",
      "ssim_score for pill is  0.916495905593118\n",
      "ssim_score for screw is  0.9305753075193738\n",
      "ssim_score for tile is  0.749390097356638\n",
      "ssim_score for toothbrush is  0.9038324198649555\n",
      "ssim_score for transistor is  0.9143779047362376\n",
      "ssim_score for wood is  0.6980937784689301\n",
      "ssim_score for zipper is  0.7558662943304375\n"
     ]
    }
   ],
   "source": [
    "model2.eval()\n",
    "with torch.inference_mode():\n",
    "\n",
    "    for object in objects:\n",
    "        ssim_scores=[] #stores the ssim for each image and then finally we can compute the mean from this\n",
    "        degraded_object_image_paths=get_paths_of_an_object(os.getcwd(), object, \"Val\")\n",
    "        clean_object_image_paths=get_paths_of_an_object(os.getcwd(), object, \"Val\", \"GT_clean_image\")\n",
    "\n",
    "        #first we must load the images and then apply appropriate transformations before passing the degraded images to the model\n",
    "        #finally we can calculate the psnr\n",
    "\n",
    "        degraded_images=torch.zeros(len(degraded_object_image_paths), 3, 256, 256)\n",
    "        for i, noisy_image in enumerate(degraded_object_image_paths):\n",
    "            pil_image=Image.open(noisy_image)\n",
    "            noisy=transform(pil_image)\n",
    "            degraded_images[i]=noisy\n",
    "\n",
    "        #same thing for clean_images\n",
    "        clean_images=torch.zeros(len(clean_object_image_paths), 3, 256, 256)\n",
    "        # print(\"clean images length is \", len(clean_images))\n",
    "        for i, image in enumerate(clean_object_image_paths):\n",
    "          # print('i is ', i)\n",
    "          pil_image=Image.open(image)\n",
    "          image=transform(pil_image)\n",
    "          clean_images[i]=image\n",
    "\n",
    "        reconstructed_images=model2(degraded_images.to(device))\n",
    "\n",
    "        #until here, we have the clean images and the reconstructed ones\n",
    "        #now we need to compute the ssim individually, however keep in mind that the function ssim expects images like HxWxChannels\n",
    "        for i, image in enumerate(reconstructed_images):\n",
    "           reconstructed_np_image=image.cpu().numpy()\n",
    "           clean_np_image=clean_images[i].cpu().numpy()\n",
    "\n",
    "           ssim_score=compute_ssim(reconstructed_np_image.transpose(1, 2, 0),  clean_np_image.transpose(1, 2, 0))\n",
    "\n",
    "           ssim_scores.append(ssim_score)\n",
    "        individual_objects_ssim_scores.append(np.mean(ssim_scores))\n",
    "        print(f\"ssim_score for {object} is \", np.mean(ssim_scores))\n"
   ]
  },
  {
   "cell_type": "code",
   "execution_count": 160,
   "metadata": {},
   "outputs": [
    {
     "data": {
      "image/png": "[encoded data removed]",
      "text/plain": [
       "<Figure size 2000x500 with 1 Axes>"
      ]
     },
     "metadata": {},
     "output_type": "display_data"
    }
   ],
   "source": [
    "plt.figure(figsize=(20, 5))\n",
    "plt.bar(objects, individual_objects_ssim_scores)\n",
    "plt.show()"
   ]
  },
  {
   "cell_type": "markdown",
   "metadata": {},
   "source": [
    "#### For the entire test data"
   ]
  },
  {
   "cell_type": "code",
   "execution_count": 161,
   "metadata": {},
   "outputs": [
    {
     "name": "stdout",
     "output_type": "stream",
     "text": [
      "Average SSIM for the test set is  0.8439177234637365\n"
     ]
    }
   ],
   "source": [
    "print(\"Average SSIM for the test set is \", np.mean(individual_objects_ssim_scores))"
   ]
  },
  {
   "cell_type": "markdown",
   "metadata": {},
   "source": [
    "`first we get the reconstructed_images, then multiply (broadcast them by the defect mask image) This will ensure that only the defected area is left for the reconsturcted image, next we can calculate the psnrr and ssim on these images`"
   ]
  },
  {
   "cell_type": "markdown",
   "metadata": {},
   "source": [
    "### PSNR For defect masks"
   ]
  },
  {
   "cell_type": "markdown",
   "metadata": {},
   "source": [
    "we first reconstruct the noisy images and then what we do is, we only retain the portion of the images that is given in the defect mask: for both the reconstructed and clean images, then we find psnr on these 2 images"
   ]
  },
  {
   "cell_type": "code",
   "execution_count": 164,
   "metadata": {},
   "outputs": [
    {
     "name": "stdout",
     "output_type": "stream",
     "text": [
      "psnr for defect mask for bottle is  39.08306884765625\n",
      "psnr for defect mask for cable is  39.93761444091797\n",
      "psnr for defect mask for capsule is  53.01537322998047\n",
      "psnr for defect mask for carpet is  39.90264892578125\n",
      "psnr for defect mask for grid is  44.84999084472656\n",
      "psnr for defect mask for hazelnut is  37.37675476074219\n",
      "psnr for defect mask for leather is  46.92424774169922\n",
      "psnr for defect mask for metal_nut is  42.21202087402344\n",
      "psnr for defect mask for pill is  39.00896453857422\n",
      "psnr for defect mask for screw is  52.21516036987305\n",
      "psnr for defect mask for tile is  35.289833068847656\n",
      "psnr for defect mask for toothbrush is  43.20071792602539\n",
      "psnr for defect mask for transistor is  38.14266586303711\n",
      "psnr for defect mask for wood is  42.55637741088867\n",
      "psnr for defect mask for zipper is  43.532432556152344\n"
     ]
    }
   ],
   "source": [
    "psnr_scores_defect_mask=[]\n",
    "model2.eval()\n",
    "with torch.inference_mode():\n",
    "\n",
    "    for object in objects:\n",
    "        degraded_object_image_paths=get_paths_of_an_object(os.getcwd(), object)\n",
    "        clean_object_image_paths=get_paths_of_an_object(os.getcwd(), object, \"Val\", \"GT_clean_image\")\n",
    "        defect_mask_object_image_paths=get_paths_of_an_object(os.getcwd(), object, \"Val\", \"Defect_mask\")\n",
    "        #first we must load the images and then apply appropriate transformations before passing the degraded images to the model\n",
    "        #finally we can calculate the psnr\n",
    "\n",
    "        degraded_images=torch.zeros(len(degraded_object_image_paths), 3, 256, 256)\n",
    "        for i, noisy_image in enumerate(degraded_object_image_paths):\n",
    "            pil_image=Image.open(noisy_image)\n",
    "            noisy=transform(pil_image)\n",
    "            degraded_images[i]=noisy\n",
    "\n",
    "        #same thing for clean_images\n",
    "        clean_images=torch.zeros(len(clean_object_image_paths), 3, 256, 256)\n",
    "        # print(\"clean images length is \", len(clean_images))\n",
    "        for i, image in enumerate(clean_object_image_paths):\n",
    "          # print('i is ', i)\n",
    "          pil_image=Image.open(image)\n",
    "          image=transform(pil_image)\n",
    "          clean_images[i]=image\n",
    "        \n",
    "        reconstructed_images=model2(degraded_images.to(device))\n",
    "\n",
    "        defect_mask_images=torch.zeros(len(defect_mask_object_image_paths), 3, 256, 256)\n",
    "        for i, image in enumerate(defect_mask_object_image_paths):\n",
    "            pil_image=Image.open(image)\n",
    "            defect_mask=transform(pil_image)\n",
    "            defect_mask_images[i]=defect_mask\n",
    "        #since we now have the reconstructed_images as well as the clean ones, \n",
    "        #we can apply the defect mask on each of these\n",
    "        defect_mask_applied_reconstructed= torch.zeros(len(reconstructed_images), 3, 256, 256).to(device) #because reconstructed_images will be on the device since they are returned by the model\n",
    "        defect_mask_applied_clean=torch.zeros(len(clean_images), 3, 256, 256)\n",
    "        for i in range(len(reconstructed_images)):\n",
    "            #multiply the reconstructed and clean images with the defect mask images, and then calculate the psnr\n",
    "            defect_mask_applied_reconstructed[i]=defect_mask_images[i]*reconstructed_images[i]\n",
    "\n",
    "            defect_mask_applied_clean[i]=defect_mask_images[i]* clean_images[i]\n",
    "        \n",
    "        psnr_score=psnr(defect_mask_applied_reconstructed, defect_mask_applied_clean.to(device)).item()\n",
    "        psnr_scores_defect_mask.append(psnr_score)\n",
    "        print(f\"psnr for defect mask for {object} is \", psnr_score)"
   ]
  },
  {
   "cell_type": "code",
   "execution_count": 165,
   "metadata": {},
   "outputs": [
    {
     "data": {
      "image/png": "[encoded data removed]",
      "text/plain": [
       "<Figure size 2000x500 with 1 Axes>"
      ]
     },
     "metadata": {},
     "output_type": "display_data"
    }
   ],
   "source": [
    "plt.figure(figsize=(20, 5))\n",
    "plt.bar(objects, psnr_scores_defect_mask)\n",
    "plt.show()"
   ]
  },
  {
   "cell_type": "markdown",
   "metadata": {},
   "source": [
    "### SSIM for Defect masks"
   ]
  },
  {
   "cell_type": "code",
   "execution_count": 166,
   "metadata": {},
   "outputs": [],
   "source": [
    "individual_objects_defect_mask_ssim_scores=[]"
   ]
  },
  {
   "cell_type": "code",
   "execution_count": 167,
   "metadata": {},
   "outputs": [
    {
     "name": "stdout",
     "output_type": "stream",
     "text": [
      "ssim_score for defect mask of bottle is  0.9907153764422482\n",
      "ssim_score for defect mask of cable is  0.9921377209377387\n",
      "ssim_score for defect mask of capsule is  0.9996340542438119\n",
      "ssim_score for defect mask of carpet is  0.9933355962686911\n",
      "ssim_score for defect mask of grid is  0.9982593457803507\n",
      "ssim_score for defect mask of hazelnut is  0.9899346978428081\n",
      "ssim_score for defect mask of leather is  0.9984920779655303\n",
      "ssim_score for defect mask of metal_nut is  0.9910828656980933\n",
      "ssim_score for defect mask of pill is  0.9827560057738514\n",
      "ssim_score for defect mask of screw is  0.9996699000431328\n",
      "ssim_score for defect mask of tile is  0.9751795040699409\n",
      "ssim_score for defect mask of toothbrush is  0.9955162384881221\n",
      "ssim_score for defect mask of transistor is  0.984117042130086\n",
      "ssim_score for defect mask of wood is  0.9948816486612448\n",
      "ssim_score for defect mask of zipper is  0.9953856166599213\n"
     ]
    }
   ],
   "source": [
    "model2.eval()\n",
    "with torch.inference_mode():\n",
    "\n",
    "    for object in objects:\n",
    "        ssim_scores=[] #stores the ssim for each image and then finally we can compute the mean from this\n",
    "        degraded_object_image_paths=get_paths_of_an_object(os.getcwd(), object, \"Val\")\n",
    "        clean_object_image_paths=get_paths_of_an_object(os.getcwd(), object, \"Val\", \"GT_clean_image\")\n",
    "        defect_mask_object_image_paths=get_paths_of_an_object(os.getcwd(), object, \"Val\", \"Defect_mask\")\n",
    "        #first we must load the images and then apply appropriate transformations before passing the degraded images to the model\n",
    "        #finally we can calculate the ssim\n",
    "\n",
    "        degraded_images=torch.zeros(len(degraded_object_image_paths), 3, 256, 256)\n",
    "        for i, noisy_image in enumerate(degraded_object_image_paths):\n",
    "            pil_image=Image.open(noisy_image)\n",
    "            noisy=transform(pil_image)\n",
    "            degraded_images[i]=noisy\n",
    "\n",
    "        #same thing for clean_images\n",
    "        clean_images=torch.zeros(len(clean_object_image_paths), 3, 256, 256)\n",
    "        # print(\"clean images length is \", len(clean_images))\n",
    "        for i, image in enumerate(clean_object_image_paths):\n",
    "          # print('i is ', i)\n",
    "          pil_image=Image.open(image)\n",
    "          image=transform(pil_image)\n",
    "          clean_images[i]=image\n",
    "\n",
    "        reconstructed_images=model2(degraded_images.to(device))\n",
    "\n",
    "        \n",
    "        defect_mask_images=torch.zeros(len(defect_mask_object_image_paths), 3, 256, 256)\n",
    "        for i, image in enumerate(defect_mask_object_image_paths):\n",
    "            pil_image=Image.open(image)\n",
    "            defect_mask=transform(pil_image)\n",
    "            defect_mask_images[i]=defect_mask\n",
    "\n",
    "        #so we have the defect mask images that we have to apply to each of reconstructed and their correspoding clean images\n",
    "\n",
    "        for i, image in enumerate(reconstructed_images):\n",
    "           defect_mask_image=defect_mask_images[i].cpu().numpy()\n",
    "           \n",
    "           reconstructed_np_image=image.cpu().numpy()*defect_mask_image\n",
    "           clean_np_image=clean_images[i].cpu().numpy()*defect_mask_image\n",
    "           \n",
    "           ssim_score=compute_ssim(reconstructed_np_image.transpose(1, 2, 0),  clean_np_image.transpose(1, 2, 0))\n",
    "\n",
    "           ssim_scores.append(ssim_score)\n",
    "        \n",
    "        individual_objects_ssim_scores.append(np.mean(ssim_scores))\n",
    "        print(f\"ssim_score for defect mask of {object} is \", np.mean(ssim_scores))"
   ]
  },
  {
   "cell_type": "code",
   "execution_count": 168,
   "metadata": {},
   "outputs": [
    {
     "ename": "ValueError",
     "evalue": "shape mismatch: objects cannot be broadcast to a single shape.  Mismatch is between arg 0 with shape (15,) and arg 1 with shape (0,).",
     "output_type": "error",
     "traceback": [
      "\u001b[1;31m---------------------------------------------------------------------------\u001b[0m",
      "\u001b[1;31mValueError\u001b[0m                                Traceback (most recent call last)",
      "Cell \u001b[1;32mIn[168], line 1\u001b[0m\n\u001b[1;32m----> 1\u001b[0m \u001b[43mplt\u001b[49m\u001b[38;5;241;43m.\u001b[39;49m\u001b[43mbar\u001b[49m\u001b[43m(\u001b[49m\u001b[43mobjects\u001b[49m\u001b[43m,\u001b[49m\u001b[43m \u001b[49m\u001b[43mindividual_objects_defect_mask_ssim_scores\u001b[49m\u001b[43m)\u001b[49m\n",
      "File \u001b[1;32md:\\Pc\\Documents\\Final Project Submission for DL Imaging\\venv\\Lib\\site-packages\\matplotlib\\pyplot.py:2956\u001b[0m, in \u001b[0;36mbar\u001b[1;34m(x, height, width, bottom, align, data, **kwargs)\u001b[0m\n\u001b[0;32m   2945\u001b[0m \u001b[38;5;129m@_copy_docstring_and_deprecators\u001b[39m(Axes\u001b[38;5;241m.\u001b[39mbar)\n\u001b[0;32m   2946\u001b[0m \u001b[38;5;28;01mdef\u001b[39;00m \u001b[38;5;21mbar\u001b[39m(\n\u001b[0;32m   2947\u001b[0m     x: \u001b[38;5;28mfloat\u001b[39m \u001b[38;5;241m|\u001b[39m ArrayLike,\n\u001b[1;32m   (...)\u001b[0m\n\u001b[0;32m   2954\u001b[0m     \u001b[38;5;241m*\u001b[39m\u001b[38;5;241m*\u001b[39mkwargs,\n\u001b[0;32m   2955\u001b[0m ) \u001b[38;5;241m-\u001b[39m\u001b[38;5;241m>\u001b[39m BarContainer:\n\u001b[1;32m-> 2956\u001b[0m     \u001b[38;5;28;01mreturn\u001b[39;00m \u001b[43mgca\u001b[49m\u001b[43m(\u001b[49m\u001b[43m)\u001b[49m\u001b[38;5;241;43m.\u001b[39;49m\u001b[43mbar\u001b[49m\u001b[43m(\u001b[49m\n\u001b[0;32m   2957\u001b[0m \u001b[43m        \u001b[49m\u001b[43mx\u001b[49m\u001b[43m,\u001b[49m\n\u001b[0;32m   2958\u001b[0m \u001b[43m        \u001b[49m\u001b[43mheight\u001b[49m\u001b[43m,\u001b[49m\n\u001b[0;32m   2959\u001b[0m \u001b[43m        \u001b[49m\u001b[43mwidth\u001b[49m\u001b[38;5;241;43m=\u001b[39;49m\u001b[43mwidth\u001b[49m\u001b[43m,\u001b[49m\n\u001b[0;32m   2960\u001b[0m \u001b[43m        \u001b[49m\u001b[43mbottom\u001b[49m\u001b[38;5;241;43m=\u001b[39;49m\u001b[43mbottom\u001b[49m\u001b[43m,\u001b[49m\n\u001b[0;32m   2961\u001b[0m \u001b[43m        \u001b[49m\u001b[43malign\u001b[49m\u001b[38;5;241;43m=\u001b[39;49m\u001b[43malign\u001b[49m\u001b[43m,\u001b[49m\n\u001b[0;32m   2962\u001b[0m \u001b[43m        \u001b[49m\u001b[38;5;241;43m*\u001b[39;49m\u001b[38;5;241;43m*\u001b[39;49m\u001b[43m(\u001b[49m\u001b[43m{\u001b[49m\u001b[38;5;124;43m\"\u001b[39;49m\u001b[38;5;124;43mdata\u001b[39;49m\u001b[38;5;124;43m\"\u001b[39;49m\u001b[43m:\u001b[49m\u001b[43m \u001b[49m\u001b[43mdata\u001b[49m\u001b[43m}\u001b[49m\u001b[43m \u001b[49m\u001b[38;5;28;43;01mif\u001b[39;49;00m\u001b[43m \u001b[49m\u001b[43mdata\u001b[49m\u001b[43m \u001b[49m\u001b[38;5;129;43;01mis\u001b[39;49;00m\u001b[43m \u001b[49m\u001b[38;5;129;43;01mnot\u001b[39;49;00m\u001b[43m \u001b[49m\u001b[38;5;28;43;01mNone\u001b[39;49;00m\u001b[43m \u001b[49m\u001b[38;5;28;43;01melse\u001b[39;49;00m\u001b[43m \u001b[49m\u001b[43m{\u001b[49m\u001b[43m}\u001b[49m\u001b[43m)\u001b[49m\u001b[43m,\u001b[49m\n\u001b[0;32m   2963\u001b[0m \u001b[43m        \u001b[49m\u001b[38;5;241;43m*\u001b[39;49m\u001b[38;5;241;43m*\u001b[39;49m\u001b[43mkwargs\u001b[49m\u001b[43m,\u001b[49m\n\u001b[0;32m   2964\u001b[0m \u001b[43m    \u001b[49m\u001b[43m)\u001b[49m\n",
      "File \u001b[1;32md:\\Pc\\Documents\\Final Project Submission for DL Imaging\\venv\\Lib\\site-packages\\matplotlib\\__init__.py:1473\u001b[0m, in \u001b[0;36m_preprocess_data.<locals>.inner\u001b[1;34m(ax, data, *args, **kwargs)\u001b[0m\n\u001b[0;32m   1470\u001b[0m \u001b[38;5;129m@functools\u001b[39m\u001b[38;5;241m.\u001b[39mwraps(func)\n\u001b[0;32m   1471\u001b[0m \u001b[38;5;28;01mdef\u001b[39;00m \u001b[38;5;21minner\u001b[39m(ax, \u001b[38;5;241m*\u001b[39margs, data\u001b[38;5;241m=\u001b[39m\u001b[38;5;28;01mNone\u001b[39;00m, \u001b[38;5;241m*\u001b[39m\u001b[38;5;241m*\u001b[39mkwargs):\n\u001b[0;32m   1472\u001b[0m     \u001b[38;5;28;01mif\u001b[39;00m data \u001b[38;5;129;01mis\u001b[39;00m \u001b[38;5;28;01mNone\u001b[39;00m:\n\u001b[1;32m-> 1473\u001b[0m         \u001b[38;5;28;01mreturn\u001b[39;00m \u001b[43mfunc\u001b[49m\u001b[43m(\u001b[49m\n\u001b[0;32m   1474\u001b[0m \u001b[43m            \u001b[49m\u001b[43max\u001b[49m\u001b[43m,\u001b[49m\n\u001b[0;32m   1475\u001b[0m \u001b[43m            \u001b[49m\u001b[38;5;241;43m*\u001b[39;49m\u001b[38;5;28;43mmap\u001b[39;49m\u001b[43m(\u001b[49m\u001b[43msanitize_sequence\u001b[49m\u001b[43m,\u001b[49m\u001b[43m \u001b[49m\u001b[43margs\u001b[49m\u001b[43m)\u001b[49m\u001b[43m,\u001b[49m\n\u001b[0;32m   1476\u001b[0m \u001b[43m            \u001b[49m\u001b[38;5;241;43m*\u001b[39;49m\u001b[38;5;241;43m*\u001b[39;49m\u001b[43m{\u001b[49m\u001b[43mk\u001b[49m\u001b[43m:\u001b[49m\u001b[43m \u001b[49m\u001b[43msanitize_sequence\u001b[49m\u001b[43m(\u001b[49m\u001b[43mv\u001b[49m\u001b[43m)\u001b[49m\u001b[43m \u001b[49m\u001b[38;5;28;43;01mfor\u001b[39;49;00m\u001b[43m \u001b[49m\u001b[43mk\u001b[49m\u001b[43m,\u001b[49m\u001b[43m \u001b[49m\u001b[43mv\u001b[49m\u001b[43m \u001b[49m\u001b[38;5;129;43;01min\u001b[39;49;00m\u001b[43m \u001b[49m\u001b[43mkwargs\u001b[49m\u001b[38;5;241;43m.\u001b[39;49m\u001b[43mitems\u001b[49m\u001b[43m(\u001b[49m\u001b[43m)\u001b[49m\u001b[43m}\u001b[49m\u001b[43m)\u001b[49m\n\u001b[0;32m   1478\u001b[0m     bound \u001b[38;5;241m=\u001b[39m new_sig\u001b[38;5;241m.\u001b[39mbind(ax, \u001b[38;5;241m*\u001b[39margs, \u001b[38;5;241m*\u001b[39m\u001b[38;5;241m*\u001b[39mkwargs)\n\u001b[0;32m   1479\u001b[0m     auto_label \u001b[38;5;241m=\u001b[39m (bound\u001b[38;5;241m.\u001b[39marguments\u001b[38;5;241m.\u001b[39mget(label_namer)\n\u001b[0;32m   1480\u001b[0m                   \u001b[38;5;129;01mor\u001b[39;00m bound\u001b[38;5;241m.\u001b[39mkwargs\u001b[38;5;241m.\u001b[39mget(label_namer))\n",
      "File \u001b[1;32md:\\Pc\\Documents\\Final Project Submission for DL Imaging\\venv\\Lib\\site-packages\\matplotlib\\axes\\_axes.py:2520\u001b[0m, in \u001b[0;36mAxes.bar\u001b[1;34m(self, x, height, width, bottom, align, **kwargs)\u001b[0m\n\u001b[0;32m   2517\u001b[0m     \u001b[38;5;28;01mif\u001b[39;00m yerr \u001b[38;5;129;01mis\u001b[39;00m \u001b[38;5;129;01mnot\u001b[39;00m \u001b[38;5;28;01mNone\u001b[39;00m:\n\u001b[0;32m   2518\u001b[0m         yerr \u001b[38;5;241m=\u001b[39m \u001b[38;5;28mself\u001b[39m\u001b[38;5;241m.\u001b[39m_convert_dx(yerr, y0, y, \u001b[38;5;28mself\u001b[39m\u001b[38;5;241m.\u001b[39mconvert_yunits)\n\u001b[1;32m-> 2520\u001b[0m x, height, width, y, linewidth, hatch \u001b[38;5;241m=\u001b[39m \u001b[43mnp\u001b[49m\u001b[38;5;241;43m.\u001b[39;49m\u001b[43mbroadcast_arrays\u001b[49m\u001b[43m(\u001b[49m\n\u001b[0;32m   2521\u001b[0m \u001b[43m    \u001b[49m\u001b[38;5;66;43;03m# Make args iterable too.\u001b[39;49;00m\n\u001b[0;32m   2522\u001b[0m \u001b[43m    \u001b[49m\u001b[43mnp\u001b[49m\u001b[38;5;241;43m.\u001b[39;49m\u001b[43matleast_1d\u001b[49m\u001b[43m(\u001b[49m\u001b[43mx\u001b[49m\u001b[43m)\u001b[49m\u001b[43m,\u001b[49m\u001b[43m \u001b[49m\u001b[43mheight\u001b[49m\u001b[43m,\u001b[49m\u001b[43m \u001b[49m\u001b[43mwidth\u001b[49m\u001b[43m,\u001b[49m\u001b[43m \u001b[49m\u001b[43my\u001b[49m\u001b[43m,\u001b[49m\u001b[43m \u001b[49m\u001b[43mlinewidth\u001b[49m\u001b[43m,\u001b[49m\u001b[43m \u001b[49m\u001b[43mhatch\u001b[49m\u001b[43m)\u001b[49m\n\u001b[0;32m   2524\u001b[0m \u001b[38;5;66;03m# Now that units have been converted, set the tick locations.\u001b[39;00m\n\u001b[0;32m   2525\u001b[0m \u001b[38;5;28;01mif\u001b[39;00m orientation \u001b[38;5;241m==\u001b[39m \u001b[38;5;124m'\u001b[39m\u001b[38;5;124mvertical\u001b[39m\u001b[38;5;124m'\u001b[39m:\n",
      "File \u001b[1;32md:\\Pc\\Documents\\Final Project Submission for DL Imaging\\venv\\Lib\\site-packages\\numpy\\lib\\_stride_tricks_impl.py:558\u001b[0m, in \u001b[0;36mbroadcast_arrays\u001b[1;34m(subok, *args)\u001b[0m\n\u001b[0;32m    551\u001b[0m \u001b[38;5;66;03m# nditer is not used here to avoid the limit of 32 arrays.\u001b[39;00m\n\u001b[0;32m    552\u001b[0m \u001b[38;5;66;03m# Otherwise, something like the following one-liner would suffice:\u001b[39;00m\n\u001b[0;32m    553\u001b[0m \u001b[38;5;66;03m# return np.nditer(args, flags=['multi_index', 'zerosize_ok'],\u001b[39;00m\n\u001b[0;32m    554\u001b[0m \u001b[38;5;66;03m#                  order='C').itviews\u001b[39;00m\n\u001b[0;32m    556\u001b[0m args \u001b[38;5;241m=\u001b[39m [np\u001b[38;5;241m.\u001b[39marray(_m, copy\u001b[38;5;241m=\u001b[39m\u001b[38;5;28;01mNone\u001b[39;00m, subok\u001b[38;5;241m=\u001b[39msubok) \u001b[38;5;28;01mfor\u001b[39;00m _m \u001b[38;5;129;01min\u001b[39;00m args]\n\u001b[1;32m--> 558\u001b[0m shape \u001b[38;5;241m=\u001b[39m \u001b[43m_broadcast_shape\u001b[49m\u001b[43m(\u001b[49m\u001b[38;5;241;43m*\u001b[39;49m\u001b[43margs\u001b[49m\u001b[43m)\u001b[49m\n\u001b[0;32m    560\u001b[0m result \u001b[38;5;241m=\u001b[39m [array \u001b[38;5;28;01mif\u001b[39;00m array\u001b[38;5;241m.\u001b[39mshape \u001b[38;5;241m==\u001b[39m shape\n\u001b[0;32m    561\u001b[0m           \u001b[38;5;28;01melse\u001b[39;00m _broadcast_to(array, shape, subok\u001b[38;5;241m=\u001b[39msubok, readonly\u001b[38;5;241m=\u001b[39m\u001b[38;5;28;01mFalse\u001b[39;00m)\n\u001b[0;32m    562\u001b[0m                           \u001b[38;5;28;01mfor\u001b[39;00m array \u001b[38;5;129;01min\u001b[39;00m args]\n\u001b[0;32m    563\u001b[0m \u001b[38;5;28;01mreturn\u001b[39;00m \u001b[38;5;28mtuple\u001b[39m(result)\n",
      "File \u001b[1;32md:\\Pc\\Documents\\Final Project Submission for DL Imaging\\venv\\Lib\\site-packages\\numpy\\lib\\_stride_tricks_impl.py:433\u001b[0m, in \u001b[0;36m_broadcast_shape\u001b[1;34m(*args)\u001b[0m\n\u001b[0;32m    428\u001b[0m \u001b[38;5;250m\u001b[39m\u001b[38;5;124;03m\"\"\"Returns the shape of the arrays that would result from broadcasting the\u001b[39;00m\n\u001b[0;32m    429\u001b[0m \u001b[38;5;124;03msupplied arrays against each other.\u001b[39;00m\n\u001b[0;32m    430\u001b[0m \u001b[38;5;124;03m\"\"\"\u001b[39;00m\n\u001b[0;32m    431\u001b[0m \u001b[38;5;66;03m# use the old-iterator because np.nditer does not handle size 0 arrays\u001b[39;00m\n\u001b[0;32m    432\u001b[0m \u001b[38;5;66;03m# consistently\u001b[39;00m\n\u001b[1;32m--> 433\u001b[0m b \u001b[38;5;241m=\u001b[39m \u001b[43mnp\u001b[49m\u001b[38;5;241;43m.\u001b[39;49m\u001b[43mbroadcast\u001b[49m\u001b[43m(\u001b[49m\u001b[38;5;241;43m*\u001b[39;49m\u001b[43margs\u001b[49m\u001b[43m[\u001b[49m\u001b[43m:\u001b[49m\u001b[38;5;241;43m32\u001b[39;49m\u001b[43m]\u001b[49m\u001b[43m)\u001b[49m\n\u001b[0;32m    434\u001b[0m \u001b[38;5;66;03m# unfortunately, it cannot handle 32 or more arguments directly\u001b[39;00m\n\u001b[0;32m    435\u001b[0m \u001b[38;5;28;01mfor\u001b[39;00m pos \u001b[38;5;129;01min\u001b[39;00m \u001b[38;5;28mrange\u001b[39m(\u001b[38;5;241m32\u001b[39m, \u001b[38;5;28mlen\u001b[39m(args), \u001b[38;5;241m31\u001b[39m):\n\u001b[0;32m    436\u001b[0m     \u001b[38;5;66;03m# ironically, np.broadcast does not properly handle np.broadcast\u001b[39;00m\n\u001b[0;32m    437\u001b[0m     \u001b[38;5;66;03m# objects (it treats them as scalars)\u001b[39;00m\n\u001b[0;32m    438\u001b[0m     \u001b[38;5;66;03m# use broadcasting to avoid allocating the full array\u001b[39;00m\n",
      "\u001b[1;31mValueError\u001b[0m: shape mismatch: objects cannot be broadcast to a single shape.  Mismatch is between arg 0 with shape (15,) and arg 1 with shape (0,)."
     ]
    },
    {
     "data": {
      "image/png": "[encoded data removed]",
      "text/plain": [
       "<Figure size 640x480 with 1 Axes>"
      ]
     },
     "metadata": {},
     "output_type": "display_data"
    }
   ],
   "source": [
    "plt.bar(objects, individual_objects_defect_mask_ssim_scores)"
   ]
  }
 ],
 "metadata": {
  "kernelspec": {
   "display_name": "venv",
   "language": "python",
   "name": "python3"
  },
  "language_info": {
   "codemirror_mode": {
    "name": "ipython",
    "version": 3
   },
   "file_extension": ".py",
   "mimetype": "text/x-python",
   "name": "python",
   "nbconvert_exporter": "python",
   "pygments_lexer": "ipython3",
   "version": "3.12.4"
  }
 },
 "nbformat": 4,
 "nbformat_minor": 2
}

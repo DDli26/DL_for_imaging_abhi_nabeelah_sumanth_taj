{
 "cells": [
  {
   "cell_type": "markdown",
   "metadata": {},
   "source": [
    "In this file, we will write the code that basically tests our model as required by the submission<br>\n",
    "1. Write code to get all the images from the test folder --> (here we have assumed Val to be the test folder)\n",
    "2. Reconstruct those images, these reconstructed images should be stored in a folder\n",
    "3. Report PSNR, SSIM on an individual object level as well as on the entire datset"
   ]
  },
  {
   "cell_type": "markdown",
   "metadata": {},
   "source": [
    "## Necessary Imports"
   ]
  },
  {
   "cell_type": "code",
   "execution_count": 6,
   "metadata": {},
   "outputs": [],
   "source": [
    "import torch\n",
    "import torch.nn as nn\n",
    "from torch.utils.data import Dataset, DataLoader\n",
    "import torchvision.transforms as transforms\n",
    "import matplotlib.pyplot as plt\n",
    "import numpy as np"
   ]
  },
  {
   "cell_type": "code",
   "execution_count": 7,
   "metadata": {},
   "outputs": [],
   "source": [
    "import torch.nn.init as init\n",
    "import torch.nn.functional as F"
   ]
  },
  {
   "cell_type": "code",
   "execution_count": 8,
   "metadata": {},
   "outputs": [],
   "source": [
    "import os\n",
    "from PIL import Image"
   ]
  },
  {
   "cell_type": "code",
   "execution_count": 9,
   "metadata": {},
   "outputs": [
    {
     "data": {
      "text/plain": [
       "'cpu'"
      ]
     },
     "execution_count": 9,
     "metadata": {},
     "output_type": "execute_result"
    }
   ],
   "source": [
    "device= \"cuda\" if torch.cuda.is_available() else \"cpu\"\n",
    "device"
   ]
  },
  {
   "cell_type": "markdown",
   "metadata": {},
   "source": [
    "## Fetching our data"
   ]
  },
  {
   "cell_type": "markdown",
   "metadata": {},
   "source": [
    "`the function below is responsible for getting all the image paths for the test (Val in this case) data`"
   ]
  },
  {
   "cell_type": "code",
   "execution_count": 10,
   "metadata": {},
   "outputs": [],
   "source": [
    "def get_image_path(root, folder=\"Train\", type=\"Degraded_image\" ): #returns paths of all the images from the given folder\n",
    "#  root=root+\"/drive/MyDrive\" #this line is for google colab\n",
    " dataset_path=os.path.join(root, \"Denoising_Dataset_train_val\")\n",
    "#  print(\"zeroeth print statement\")\n",
    " print(os.listdir(dataset_path))\n",
    " image_paths=[]\n",
    "#go inside each of the object directories, for each of them\n",
    "#go inside Train folder,\n",
    "#inside train, go inside gthe Degraded_image directory,\n",
    "#inside Degraded_image directory, there are different directories,\n",
    "#inside each of these directories there are images that we have to extract, which are basically our noised image\n",
    " for object in sorted(os.listdir(dataset_path)):\n",
    "    object_directory_path=os.path.join(root, \"Denoising_Dataset_train_val\", object)\n",
    "    # print(\"First print statement\")\n",
    "    # print(os.listdir(object_directory_path))\n",
    "\n",
    "\n",
    "    for train_folder in sorted(os.listdir(object_directory_path)):\n",
    "      if(train_folder==folder):\n",
    "        train_directory_path=os.path.join(root, \"Denoising_Dataset_train_val\", object, train_folder)\n",
    "        # print(\"second print staement\")\n",
    "        # print(os.listdir(train_directory_path))\n",
    "\n",
    "        for degraded_image_folder in os.listdir(train_directory_path):\n",
    "            if(degraded_image_folder==type):\n",
    "\n",
    "                image_folder_path=os.listdir(os.path.join(root, \"Denoising_Dataset_train_val\", object, train_folder, degraded_image_folder))\n",
    "                # print(\"third print statement\")\n",
    "                # print(image_folder_path)\n",
    "                # return []\n",
    "                for image_folder in sorted(image_folder_path):\n",
    "                    #inside each image folder, get the images and store them in images list\n",
    "                    # print(image_folder_path)\n",
    "                    image_path=os.listdir(os.path.join(root, \"Denoising_Dataset_train_val\", object, train_folder, degraded_image_folder, image_folder))\n",
    "                    # print(\"fourth print statement\")\n",
    "                    # image_path.sort()\n",
    "                    # print(image_path)\n",
    "                    # return []\n",
    "                    for image in sorted(image_path):\n",
    "                        #now we need to store these images in a list so that they can be accessed later\n",
    "                        image_paths.append(os.path.join(root, \"Denoising_Dataset_train_val\", object, train_folder, degraded_image_folder, image_folder, image))\n",
    " return image_paths"
   ]
  },
  {
   "cell_type": "code",
   "execution_count": 11,
   "metadata": {},
   "outputs": [
    {
     "name": "stdout",
     "output_type": "stream",
     "text": [
      "['bottle', 'cable', 'capsule', 'carpet', 'grid', 'hazelnut', 'leather', 'metal_nut', 'pill', 'screw', 'tile', 'toothbrush', 'transistor', 'wood', 'zipper']\n",
      "['bottle', 'cable', 'capsule', 'carpet', 'grid', 'hazelnut', 'leather', 'metal_nut', 'pill', 'screw', 'tile', 'toothbrush', 'transistor', 'wood', 'zipper']\n"
     ]
    }
   ],
   "source": [
    "degraded_test_image_paths=get_image_path(os.getcwd(), folder=\"Val\", #folder=\"Test\" for the test data \n",
    "                                    type=\"Degraded_image\")\n",
    "\n",
    "clean_test_image_paths=get_image_path(os.getcwd(), \n",
    "                                 folder=\"Val\", \n",
    "                                 type=\"GT_clean_image\")"
   ]
  },
  {
   "cell_type": "code",
   "execution_count": 12,
   "metadata": {},
   "outputs": [
    {
     "name": "stdout",
     "output_type": "stream",
     "text": [
      "['bottle', 'cable', 'capsule', 'carpet', 'grid', 'hazelnut', 'leather', 'metal_nut', 'pill', 'screw', 'tile', 'toothbrush', 'transistor', 'wood', 'zipper']\n"
     ]
    }
   ],
   "source": [
    "defect_masks_paths=get_image_path(os.getcwd(),  #this contains the defect masks, we will use this to test psnr and ssim on the test data\n",
    "                                        folder=\"Val\", \n",
    "                                        type=\"Defect_mask\")"
   ]
  },
  {
   "cell_type": "code",
   "execution_count": 13,
   "metadata": {},
   "outputs": [
    {
     "data": {
      "text/plain": [
       "(88, 88, 88)"
      ]
     },
     "execution_count": 13,
     "metadata": {},
     "output_type": "execute_result"
    }
   ],
   "source": [
    "len(clean_test_image_paths), len(degraded_test_image_paths), len(defect_masks_paths)"
   ]
  },
  {
   "cell_type": "markdown",
   "metadata": {},
   "source": [
    "## DataSet and DataLoader Objects"
   ]
  },
  {
   "cell_type": "markdown",
   "metadata": {},
   "source": [
    "`we have the image paths, the next task is to define a dataloader object which we can then use to pass images to our model`"
   ]
  },
  {
   "cell_type": "code",
   "execution_count": 14,
   "metadata": {},
   "outputs": [],
   "source": [
    "def convert_gray_to_rgb(image):\n",
    "    # Check if input is a numpy array\n",
    "    if isinstance(image, np.ndarray):\n",
    "        # If already RGB (3 channels), return as is\n",
    "        if image.ndim == 3 and image.shape[-1] == 3:\n",
    "            return image\n",
    "        # Otherwise, convert grayscale to RGB\n",
    "        return np.stack([image] * 3, axis=-1)\n",
    "\n",
    "    # For PIL Images, check if already RGB\n",
    "    if image.mode == 'RGB':\n",
    "        return image\n",
    "    # Convert grayscale to RGB\n",
    "    return Image.merge('RGB', [image] * 3)\n",
    "\n",
    "\n",
    "def resize(image):\n",
    "    # Assuming you want to resize to 256x256 - adjust size if needed\n",
    "    if isinstance(image, np.ndarray):\n",
    "        return Image.fromarray(image).resize((256, 256), Image.Resampling.BILINEAR)\n",
    "    return image.resize((256, 256), Image.Resampling.BILINEAR)\n",
    "\n",
    "# Define the transforms\n",
    "transform = transforms.Compose([\n",
    "    transforms.Lambda(convert_gray_to_rgb),\n",
    "    transforms.Lambda(resize),\n",
    "    transforms.ToTensor(),\n",
    "])\n",
    "\n",
    "class SimpleDataset(Dataset):\n",
    "    def __init__(self, noisy_paths, clean_paths, transform=transform):\n",
    "        self.noisy_paths = noisy_paths\n",
    "        self.clean_paths = clean_paths\n",
    "        self.transform = transform\n",
    "\n",
    "    def __len__(self):\n",
    "        return len(self.noisy_paths)\n",
    "\n",
    "    def __getitem__(self, idx):\n",
    "        noisy_image = Image.open(self.noisy_paths[idx])\n",
    "        clean_image = Image.open(self.clean_paths[idx])\n",
    "\n",
    "        noisy_tensor = self.transform(noisy_image)\n",
    "        clean_tensor = self.transform(clean_image)\n",
    "\n",
    "        return noisy_tensor, clean_tensor\n"
   ]
  },
  {
   "cell_type": "code",
   "execution_count": 15,
   "metadata": {},
   "outputs": [],
   "source": [
    "test_dataset=SimpleDataset(degraded_test_image_paths, clean_test_image_paths)\n",
    "test_dataloader=DataLoader(dataset=test_dataset, batch_size=1, shuffle=False) #smaller batch size as data is less and also won't need to move it to gpu"
   ]
  },
  {
   "cell_type": "code",
   "execution_count": 16,
   "metadata": {},
   "outputs": [
    {
     "data": {
      "text/plain": [
       "88"
      ]
     },
     "execution_count": 16,
     "metadata": {},
     "output_type": "execute_result"
    }
   ],
   "source": [
    "len(test_dataloader)"
   ]
  },
  {
   "cell_type": "markdown",
   "metadata": {},
   "source": [
    "## Loading our trained model"
   ]
  },
  {
   "cell_type": "markdown",
   "metadata": {},
   "source": [
    "#### Model defination and Architecture"
   ]
  },
  {
   "cell_type": "code",
   "execution_count": 17,
   "metadata": {},
   "outputs": [],
   "source": [
    "class DnCNN(nn.Module):\n",
    "    def __init__(self, depth=17, n_channels=64, image_channels=1, use_bnorm=True, kernel_size=3):\n",
    "        super(DnCNN, self).__init__()\n",
    "        kernel_size = 3\n",
    "        padding = 1\n",
    "        layers = []\n",
    "\n",
    "        layers.append(nn.Conv2d(in_channels=image_channels, out_channels=n_channels, kernel_size=kernel_size, padding=padding, bias=True))\n",
    "        layers.append(nn.ReLU(inplace=True))\n",
    "        for _ in range(depth-2):\n",
    "            layers.append(nn.Conv2d(in_channels=n_channels, out_channels=n_channels, kernel_size=kernel_size, padding=padding, bias=False))\n",
    "            layers.append(nn.BatchNorm2d(n_channels, eps=0.0001, momentum = 0.95))\n",
    "            layers.append(nn.ReLU(inplace=True))\n",
    "        layers.append(nn.Conv2d(in_channels=n_channels, out_channels=image_channels, kernel_size=kernel_size, padding=padding, bias=False))\n",
    "        self.dncnn = nn.Sequential(*layers)\n",
    "        self._initialize_weights()\n",
    "\n",
    "    def forward(self, x):\n",
    "        y = x\n",
    "        out = self.dncnn(x)\n",
    "        denoised_output = y - out\n",
    "        return torch.clamp(denoised_output, 0, 1)\n",
    "\n",
    "    def _initialize_weights(self):\n",
    "        for m in self.modules():\n",
    "            if isinstance(m, nn.Conv2d):\n",
    "                init.orthogonal_(m.weight)\n",
    "                print('init weight')\n",
    "                if m.bias is not None:\n",
    "                    init.constant_(m.bias, 0)\n",
    "            elif isinstance(m, nn.BatchNorm2d):\n",
    "                init.constant_(m.weight, 1)\n",
    "                init.constant_(m.bias, 0)"
   ]
  },
  {
   "cell_type": "markdown",
   "metadata": {},
   "source": [
    "#### Model Initialisation and loading"
   ]
  },
  {
   "cell_type": "code",
   "execution_count": 18,
   "metadata": {},
   "outputs": [
    {
     "name": "stdout",
     "output_type": "stream",
     "text": [
      "init weight\n",
      "init weight\n",
      "init weight\n",
      "init weight\n",
      "init weight\n",
      "init weight\n",
      "init weight\n",
      "init weight\n",
      "init weight\n",
      "init weight\n",
      "init weight\n",
      "init weight\n",
      "init weight\n",
      "init weight\n",
      "init weight\n",
      "init weight\n",
      "init weight\n"
     ]
    }
   ],
   "source": [
    "model2=DnCNN(depth=17, n_channels=64,image_channels=3).to(device)\n",
    "# loss_fn=nn.MSELoss()\n",
    "# optimizer=torch.optim.Adam(model2.parameters(), lr=0.0001)"
   ]
  },
  {
   "cell_type": "code",
   "execution_count": 19,
   "metadata": {},
   "outputs": [
    {
     "name": "stderr",
     "output_type": "stream",
     "text": [
      "C:\\Users\\abhig\\AppData\\Local\\Temp\\ipykernel_11660\\3421265088.py:3: FutureWarning: You are using `torch.load` with `weights_only=False` (the current default value), which uses the default pickle module implicitly. It is possible to construct malicious pickle data which will execute arbitrary code during unpickling (See https://github.com/pytorch/pytorch/blob/main/SECURITY.md#untrusted-models for more details). In a future release, the default value for `weights_only` will be flipped to `True`. This limits the functions that could be executed during unpickling. Arbitrary objects will no longer be allowed to be loaded via this mode unless they are explicitly allowlisted by the user via `torch.serialization.add_safe_globals`. We recommend you start setting `weights_only=True` for any use case where you don't have full control of the loaded file. Please open an issue on GitHub for any issues related to this experimental feature.\n",
      "  model2.load_state_dict(torch.load(\"DnCNN_model_355_epochs_augmenteted.pth\", map_location=torch.device('cpu')))\n"
     ]
    },
    {
     "data": {
      "text/plain": [
       "<All keys matched successfully>"
      ]
     },
     "execution_count": 19,
     "metadata": {},
     "output_type": "execute_result"
    }
   ],
   "source": [
    "#loading our model\n",
    "#regardless of whether we have a gpu or not, this will load the model on the cpu\n",
    "model2.load_state_dict(torch.load(\"DnCNN_model_355_epochs_augmenteted.pth\", map_location=torch.device('cpu')))"
   ]
  },
  {
   "cell_type": "markdown",
   "metadata": {},
   "source": [
    "## Doing the Tasks Specified in the mail one by one"
   ]
  },
  {
   "cell_type": "markdown",
   "metadata": {},
   "source": [
    "#### `For each of the test images, your model should give output images and should be saved in an output folder. Average PSNR and SSIM values for each object as well as for the whole test set should be printed or saved in a file`"
   ]
  },
  {
   "cell_type": "markdown",
   "metadata": {},
   "source": [
    "#### Saving the Reconstructed test images to a folder named Reconstucted_images."
   ]
  },
  {
   "cell_type": "code",
   "execution_count": null,
   "metadata": {},
   "outputs": [],
   "source": [
    "import os\n",
    "#create the folder if not already present\n",
    "if not os.path.exists('Reconstructed_images'):\n",
    "    os.makedirs('Reconstructed_images')"
   ]
  },
  {
   "cell_type": "code",
   "execution_count": 44,
   "metadata": {},
   "outputs": [],
   "source": [
    "def save_image(image, name):\n",
    "    #give a passed image, stored them into the folder: Reconstructd_images\n",
    "\n",
    "    #PIL expects the image to be in the range 0-255\n",
    "    image = ((image - image.min()) * 255 / (image.max() - image.min())).clip(0, 255).astype(np.uint8)\n",
    "    \n",
    "    Image.fromarray(image).save(f'Reconstructed_images/{name}.png')"
   ]
  },
  {
   "cell_type": "markdown",
   "metadata": {},
   "source": [
    "`The cell below will store all the reconstructed versions of the images into the folder Reconstructed_images`"
   ]
  },
  {
   "cell_type": "code",
   "execution_count": 45,
   "metadata": {},
   "outputs": [],
   "source": [
    "model2.eval()\n",
    "with torch.inference_mode():\n",
    "\n",
    "    for i, (noisy, clean) in enumerate(test_dataloader):\n",
    "        noisy=noisy.to(device)\n",
    "        clean=clean.to(device)\n",
    "        reconstructed=model2(noisy)\n",
    "        #we need to save this reconstructed image somewhere\n",
    "        reconstructed=reconstructed.cpu().numpy() \n",
    "        reconstructed=reconstructed[0].transpose(1, 2, 0)  #converting the image to HxWxC format\n",
    "        save_image(reconstructed, i)\n",
    "        if(i==10): break"
   ]
  },
  {
   "cell_type": "markdown",
   "metadata": {},
   "source": [
    "### PSNR for the entire dataset as well for for inidividual objects"
   ]
  },
  {
   "cell_type": "markdown",
   "metadata": {},
   "source": [
    "#### For the entire test data"
   ]
  },
  {
   "cell_type": "code",
   "execution_count": 24,
   "metadata": {},
   "outputs": [],
   "source": [
    "def psnr(img1, img2, max_pixel_value=1.0): #this will give us the psnr value per image for a given batch, we'll have to eventually divide the outcome by total no. of batches\n",
    "    mse = F.mse_loss(img1, img2)\n",
    "    psnr_value = 20 * torch.log10(max_pixel_value / torch.sqrt(mse))\n",
    "    return psnr_value"
   ]
  },
  {
   "cell_type": "code",
   "execution_count": 25,
   "metadata": {},
   "outputs": [
    {
     "name": "stdout",
     "output_type": "stream",
     "text": [
      "Average PSNR for the entire validation set: 30.00 dB\n"
     ]
    }
   ],
   "source": [
    "model2.eval()\n",
    "with torch.inference_mode():\n",
    "    total_loss = 0\n",
    "    for noisy, clean in test_dataloader:\n",
    "        noisy, clean = noisy.to(device), clean.to(device)\n",
    "        reconstructed = model2(noisy)\n",
    "\n",
    "        # PSNR calculation for images in range [0,1]\n",
    "        loss = psnr(reconstructed, clean, 1.0)  # Note max_pixel=1.0\n",
    "        total_loss += loss #this is being added for each image because batch size if 1\n",
    "\n",
    "print(f\"Average PSNR for the entire validation set: {(total_loss)/len(test_dataloader):.2f} dB\")"
   ]
  },
  {
   "cell_type": "markdown",
   "metadata": {},
   "source": [
    "#### PSNR for Individual Objects of the test data"
   ]
  },
  {
   "cell_type": "markdown",
   "metadata": {},
   "source": [
    "##### Necessary Helper Functions that will arrange everything properly like getting the images associated with a given object, etc."
   ]
  },
  {
   "cell_type": "code",
   "execution_count": 26,
   "metadata": {},
   "outputs": [],
   "source": [
    "def get_object_names(root): #returns the names of all the different objects that we have\n",
    "#  root=root+\"/drive/MyDrive\" #this line is in case you have mounted the google drive on your notebook and it contains the dataset\n",
    " dataset_path=os.path.join(root, \"Denoising_Dataset_train_val\")\n",
    " object_names=[]\n",
    "\n",
    " for object in sorted(os.listdir(dataset_path)):\n",
    "  object_names.append(object)\n",
    "\n",
    " return object_names"
   ]
  },
  {
   "cell_type": "code",
   "execution_count": 27,
   "metadata": {},
   "outputs": [
    {
     "data": {
      "text/plain": [
       "['bottle',\n",
       " 'cable',\n",
       " 'capsule',\n",
       " 'carpet',\n",
       " 'grid',\n",
       " 'hazelnut',\n",
       " 'leather',\n",
       " 'metal_nut',\n",
       " 'pill',\n",
       " 'screw',\n",
       " 'tile',\n",
       " 'toothbrush',\n",
       " 'transistor',\n",
       " 'wood',\n",
       " 'zipper']"
      ]
     },
     "execution_count": 27,
     "metadata": {},
     "output_type": "execute_result"
    }
   ],
   "source": [
    "objects=get_object_names(os.getcwd())\n",
    "objects"
   ]
  },
  {
   "cell_type": "markdown",
   "metadata": {},
   "source": [
    "given an object's name, the function below returns paths of the images, that belong to that object in the specified folder (Val folder for our case)"
   ]
  },
  {
   "cell_type": "code",
   "execution_count": 28,
   "metadata": {},
   "outputs": [],
   "source": [
    "def get_paths_of_an_object(root, object_name, folder=\"Val\", type=\"Degraded_image\" ): #returns paths of all the images of a given object\n",
    "#  root=root+\"/drive/MyDrive\"  #this line is if you are running in colab and the drive is mounted on the notebook\n",
    " dataset_path=os.path.join(root, \"Denoising_Dataset_train_val\")\n",
    " image_paths=[]\n",
    "\n",
    " for object in sorted(os.listdir(dataset_path)):\n",
    "  if object==object_name:\n",
    "    object_directory_path=os.path.join(root, \"Denoising_Dataset_train_val\", object)\n",
    "    # print(\"First print statement\")\n",
    "    # print(os.listdir(object_directory_path))\n",
    "\n",
    "\n",
    "    for train_folder in sorted(os.listdir(object_directory_path)):\n",
    "      if(train_folder==folder): #validation folder\n",
    "        train_directory_path=os.path.join(root, \"Denoising_Dataset_train_val\", object, train_folder)\n",
    "        # print(\"second print staement\")\n",
    "        # print(os.listdir(train_directory_path))\n",
    "\n",
    "        for degraded_image_folder in os.listdir(train_directory_path):\n",
    "            if(degraded_image_folder==type):\n",
    "\n",
    "                image_folder_path=os.listdir(os.path.join(root, \"Denoising_Dataset_train_val\", object, train_folder, degraded_image_folder))\n",
    "                # print(\"third print statement\")\n",
    "                # print(image_folder_path)\n",
    "                # return []\n",
    "                for image_folder in sorted(image_folder_path):\n",
    "                    #inside each image folder, get the images and store them in images list\n",
    "                    # print(image_folder_path)\n",
    "                    image_path=os.listdir(os.path.join(root, \"Denoising_Dataset_train_val\", object, train_folder, degraded_image_folder, image_folder))\n",
    "                    # print(\"fourth print statement\")\n",
    "                    # image_path.sort()\n",
    "                    # print(image_path)\n",
    "                    # return []\n",
    "                    for image in sorted(image_path):\n",
    "                        #now we need to store these images in a list so that they can be accessed later\n",
    "                        image_paths.append(os.path.join(root, \"Denoising_Dataset_train_val\", object, train_folder, degraded_image_folder, image_folder, image))\n",
    " return image_paths"
   ]
  },
  {
   "cell_type": "markdown",
   "metadata": {},
   "source": [
    "#### PSNR Score for each object"
   ]
  },
  {
   "cell_type": "code",
   "execution_count": 29,
   "metadata": {},
   "outputs": [],
   "source": [
    "psnr_scores=[]"
   ]
  },
  {
   "cell_type": "code",
   "execution_count": 30,
   "metadata": {},
   "outputs": [
    {
     "name": "stdout",
     "output_type": "stream",
     "text": [
      "psnr for bottle is  30.918245315551758\n",
      "psnr for cable is  27.988794326782227\n",
      "psnr for capsule is  28.225597381591797\n",
      "psnr for carpet is  24.60538673400879\n",
      "psnr for grid is  27.41773796081543\n",
      "psnr for hazelnut is  33.336368560791016\n",
      "psnr for leather is  29.599817276000977\n",
      "psnr for metal_nut is  29.343616485595703\n",
      "psnr for pill is  32.30503845214844\n",
      "psnr for screw is  30.542495727539062\n",
      "psnr for tile is  25.812700271606445\n",
      "psnr for toothbrush is  31.05075454711914\n",
      "psnr for transistor is  31.02068328857422\n",
      "psnr for wood is  28.03736686706543\n",
      "psnr for zipper is  31.548725128173828\n"
     ]
    }
   ],
   "source": [
    "model2.eval()\n",
    "with torch.inference_mode():\n",
    "\n",
    "    for object in objects:\n",
    "        degraded_object_image_paths=get_paths_of_an_object(os.getcwd(), object)\n",
    "        clean_object_image_paths=get_paths_of_an_object(os.getcwd(), object, \"Val\", \"GT_clean_image\")\n",
    "\n",
    "        #first we must load the images and then apply appropriate transformations before passing the degraded images to the model\n",
    "        #finally we can calculate the psnr\n",
    "\n",
    "        degraded_images=torch.zeros(len(degraded_object_image_paths), 3, 256, 256)\n",
    "        for i, noisy_image in enumerate(degraded_object_image_paths):\n",
    "            pil_image=Image.open(noisy_image)\n",
    "            noisy=transform(pil_image)\n",
    "            degraded_images[i]=noisy\n",
    "\n",
    "        #same thing for clean_images\n",
    "        clean_images=torch.zeros(len(clean_object_image_paths), 3, 256, 256)\n",
    "        # print(\"clean images length is \", len(clean_images))\n",
    "        for i, image in enumerate(clean_object_image_paths):\n",
    "          # print('i is ', i)\n",
    "          pil_image=Image.open(image)\n",
    "          image=transform(pil_image)\n",
    "          clean_images[i]=image\n",
    "\n",
    "        reconstructed_images=model2(degraded_images.to(device))\n",
    "        psnr_score=psnr(reconstructed_images, clean_images.to(device)).item()\n",
    "        psnr_scores.append(psnr_score)\n",
    "        print(f\"psnr for {object} is \", psnr_score)"
   ]
  },
  {
   "cell_type": "code",
   "execution_count": 31,
   "metadata": {},
   "outputs": [
    {
     "data": {
      "image/png": "[encoded data removed]",
      "text/plain": [
       "<Figure size 2000x500 with 1 Axes>"
      ]
     },
     "metadata": {},
     "output_type": "display_data"
    }
   ],
   "source": [
    "plt.figure(figsize=(20, 5))\n",
    "plt.bar(objects, psnr_scores)\n",
    "plt.show()"
   ]
  },
  {
   "cell_type": "markdown",
   "metadata": {},
   "source": [
    "### SSIM for the entire dataset as well for for inidividual objects"
   ]
  },
  {
   "cell_type": "markdown",
   "metadata": {},
   "source": [
    "#### SSIM for individual Objects"
   ]
  },
  {
   "cell_type": "code",
   "execution_count": 36,
   "metadata": {},
   "outputs": [],
   "source": [
    "#if using colab --> use these inbuilt methods and replace compute_ssim with ssim in cell 51\n",
    "# from skimage import io\n",
    "# from skimage.metrics import structural_similarity as ssim"
   ]
  },
  {
   "cell_type": "code",
   "execution_count": 20,
   "metadata": {},
   "outputs": [],
   "source": [
    "import cv2"
   ]
  },
  {
   "cell_type": "code",
   "execution_count": 21,
   "metadata": {},
   "outputs": [],
   "source": [
    "def calculate_ssim(img1, img2):\n",
    "    \"\"\"\n",
    "    Calculate SSIM between two images.\n",
    "    Images should be in same size and in numpy array format.\n",
    "    \"\"\"\n",
    "    C1 = (0.01 * 255)**2\n",
    "    C2 = (0.03 * 255)**2\n",
    "    \n",
    "    # Convert to float\n",
    "    img1 = img1.astype(np.float64)\n",
    "    img2 = img2.astype(np.float64)\n",
    "    \n",
    "    kernel = cv2.getGaussianKernel(11, 1.5)\n",
    "    window = np.outer(kernel, kernel.transpose())\n",
    "    \n",
    "    # Compute means\n",
    "    mu1 = cv2.filter2D(img1, -1, window)[5:-5, 5:-5]\n",
    "    mu2 = cv2.filter2D(img2, -1, window)[5:-5, 5:-5]\n",
    "    mu1_sq = mu1**2\n",
    "    mu2_sq = mu2**2\n",
    "    mu1_mu2 = mu1 * mu2\n",
    "    \n",
    "    # Compute variances and covariance\n",
    "    sigma1_sq = cv2.filter2D(img1**2, -1, window)[5:-5, 5:-5] - mu1_sq\n",
    "    sigma2_sq = cv2.filter2D(img2**2, -1, window)[5:-5, 5:-5] - mu2_sq\n",
    "    sigma12 = cv2.filter2D(img1 * img2, -1, window)[5:-5, 5:-5] - mu1_mu2\n",
    "    \n",
    "    # Calculate SSIM\n",
    "    ssim_map = ((2 * mu1_mu2 + C1) * (2 * sigma12 + C2)) / \\\n",
    "               ((mu1_sq + mu2_sq + C1) * (sigma1_sq + sigma2_sq + C2))\n",
    "    \n",
    "    return ssim_map.mean()\n",
    "\n",
    "# Example usage:\n",
    "def compute_ssim(img1, img2):\n",
    "    \"\"\"\n",
    "    Wrapper function to handle different input types and color channels\n",
    "    \"\"\"\n",
    "    # If images are PyTorch tensors, convert to numpy\n",
    "    if torch.is_tensor(img1):\n",
    "        img1 = img1.cpu().numpy()\n",
    "    if torch.is_tensor(img2):\n",
    "        img2 = img2.cpu().numpy()\n",
    "    \n",
    "    # If images are in range [0,1], convert to [0,255]\n",
    "    if img1.max() <= 1.0:\n",
    "        img1 = (img1 * 255).astype(np.uint8)\n",
    "    if img2.max() <= 1.0:\n",
    "        img2 = (img2 * 255).astype(np.uint8)\n",
    "    \n",
    "    # Convert to uint8 if not already\n",
    "    img1 = img1.astype(np.uint8)\n",
    "    img2 = img2.astype(np.uint8)\n",
    "    \n",
    "    # Handle RGB images\n",
    "    if len(img1.shape) == 3:\n",
    "        # Calculate SSIM for each channel and take mean\n",
    "        ssim_score = np.mean([calculate_ssim(img1[..., i], img2[..., i]) \n",
    "                            for i in range(img1.shape[-1])])\n",
    "    else:\n",
    "        ssim_score = calculate_ssim(img1, img2)\n",
    "        \n",
    "    return ssim_score\n",
    "\n",
    "# Usage:\n",
    "# ssim = compute_ssim(image1, image2)\n",
    "# print(f\"SSIM Score: {ssim}\")"
   ]
  },
  {
   "cell_type": "code",
   "execution_count": 22,
   "metadata": {},
   "outputs": [],
   "source": [
    "individual_objects_ssim_scores=[]"
   ]
  },
  {
   "cell_type": "code",
   "execution_count": 33,
   "metadata": {},
   "outputs": [
    {
     "name": "stdout",
     "output_type": "stream",
     "text": [
      "ssim_score for bottle is  0.896419582981922\n",
      "ssim_score for cable is  0.8538283413363177\n",
      "ssim_score for capsule is  0.9306880138041776\n",
      "ssim_score for carpet is  0.8181352028139157\n",
      "ssim_score for grid is  0.8646425004283985\n",
      "ssim_score for hazelnut is  0.9213970070849486\n",
      "ssim_score for leather is  0.679010906154877\n",
      "ssim_score for metal_nut is  0.8156048341241973\n",
      "ssim_score for pill is  0.9136645444492132\n",
      "ssim_score for screw is  0.9309227457673148\n",
      "ssim_score for tile is  0.7482482597047102\n",
      "ssim_score for toothbrush is  0.8992576925303619\n",
      "ssim_score for transistor is  0.9099651622579622\n",
      "ssim_score for wood is  0.6934805806484571\n",
      "ssim_score for zipper is  0.7592925420542018\n"
     ]
    }
   ],
   "source": [
    "model2.eval()\n",
    "with torch.inference_mode():\n",
    "\n",
    "    for object in objects:\n",
    "        ssim_scores=[] #stores the ssim for each image and then finally we can compute the mean from this\n",
    "        degraded_object_image_paths=get_paths_of_an_object(os.getcwd(), object, \"Val\")\n",
    "        clean_object_image_paths=get_paths_of_an_object(os.getcwd(), object, \"Val\", \"GT_clean_image\")\n",
    "\n",
    "        #first we must load the images and then apply appropriate transformations before passing the degraded images to the model\n",
    "        #finally we can calculate the psnr\n",
    "\n",
    "        degraded_images=torch.zeros(len(degraded_object_image_paths), 3, 256, 256)\n",
    "        for i, noisy_image in enumerate(degraded_object_image_paths):\n",
    "            pil_image=Image.open(noisy_image)\n",
    "            noisy=transform(pil_image)\n",
    "            degraded_images[i]=noisy\n",
    "\n",
    "        #same thing for clean_images\n",
    "        clean_images=torch.zeros(len(clean_object_image_paths), 3, 256, 256)\n",
    "        # print(\"clean images length is \", len(clean_images))\n",
    "        for i, image in enumerate(clean_object_image_paths):\n",
    "          # print('i is ', i)\n",
    "          pil_image=Image.open(image)\n",
    "          image=transform(pil_image)\n",
    "          clean_images[i]=image\n",
    "\n",
    "        reconstructed_images=model2(degraded_images.to(device))\n",
    "\n",
    "        #until here, we have the clean images and the reconstructed ones\n",
    "        #now we need to compute the ssim individually, however keep in mind that the function ssim expects images like HxWxChannels\n",
    "        for i, image in enumerate(reconstructed_images):\n",
    "           reconstructed_np_image=image.cpu().numpy()\n",
    "           clean_np_image=clean_images[i].cpu().numpy()\n",
    "\n",
    "           ssim_score=compute_ssim(reconstructed_np_image.transpose(1, 2, 0),  clean_np_image.transpose(1, 2, 0))\n",
    "\n",
    "           ssim_scores.append(ssim_score)\n",
    "        individual_objects_ssim_scores.append(np.mean(ssim_scores))\n",
    "        print(f\"ssim_score for {object} is \", np.mean(ssim_scores))\n"
   ]
  },
  {
   "cell_type": "code",
   "execution_count": 38,
   "metadata": {},
   "outputs": [
    {
     "data": {
      "image/png": "[encoded data removed]",
      "text/plain": [
       "<Figure size 2000x500 with 1 Axes>"
      ]
     },
     "metadata": {},
     "output_type": "display_data"
    }
   ],
   "source": [
    "plt.figure(figsize=(20, 5))\n",
    "plt.bar(objects, individual_objects_ssim_scores)\n",
    "plt.show()"
   ]
  },
  {
   "cell_type": "markdown",
   "metadata": {},
   "source": [
    "#### For the entire test data"
   ]
  },
  {
   "cell_type": "code",
   "execution_count": 39,
   "metadata": {},
   "outputs": [
    {
     "name": "stdout",
     "output_type": "stream",
     "text": [
      "Average SSIM for the test set is  0.8423038610760649\n"
     ]
    }
   ],
   "source": [
    "print(\"Average SSIM for the test set is \", np.mean(individual_objects_ssim_scores))"
   ]
  },
  {
   "cell_type": "markdown",
   "metadata": {},
   "source": [
    "using ssim from skimage we are getting 0.83117753"
   ]
  },
  {
   "cell_type": "markdown",
   "metadata": {},
   "source": [
    "## PSNR and SSIM values on the defects using the defect mask are also to be evaluated and should be displayed or saved."
   ]
  },
  {
   "cell_type": "markdown",
   "metadata": {},
   "source": [
    "`first we get the reconstructed_images, then multiply (broadcast them by the defect mask image) This will ensure that only the defected area is left for the reconsturcted image, next we can calculate the psnrr and ssim on these images`"
   ]
  },
  {
   "cell_type": "markdown",
   "metadata": {},
   "source": []
  }
 ],
 "metadata": {
  "kernelspec": {
   "display_name": "venv",
   "language": "python",
   "name": "python3"
  },
  "language_info": {
   "codemirror_mode": {
    "name": "ipython",
    "version": 3
   },
   "file_extension": ".py",
   "mimetype": "text/x-python",
   "name": "python",
   "nbconvert_exporter": "python",
   "pygments_lexer": "ipython3",
   "version": "3.12.4"
  }
 },
 "nbformat": 4,
 "nbformat_minor": 2
}
